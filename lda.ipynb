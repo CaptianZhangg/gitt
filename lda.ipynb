{
 "cells": [
  {
   "cell_type": "markdown",
   "metadata": {},
   "source": [
    "我们现在开始分析下试题数据的主题分布，首先导入一些库"
   ]
  },
  {
   "cell_type": "code",
   "execution_count": 77,
   "metadata": {},
   "outputs": [],
   "source": [
    "from gensim import corpora, models\n",
    "import pandas as pd"
   ]
  },
  {
   "cell_type": "markdown",
   "metadata": {},
   "source": [
    "停用词还是使用上次的文件"
   ]
  },
  {
   "cell_type": "code",
   "execution_count": 78,
   "metadata": {},
   "outputs": [],
   "source": [
    "stop_words = pd.read_csv('../exec_1/stopwords/stopwords2.txt', encoding='utf-8',sep='\\t', header=None,quoting=3)"
   ]
  },
  {
   "cell_type": "markdown",
   "metadata": {},
   "source": [
    "id_data是我整理好的数据"
   ]
  },
  {
   "cell_type": "code",
   "execution_count": 79,
   "metadata": {},
   "outputs": [],
   "source": [
    "df = pd.read_csv('./data/id_data.txt', encoding='utf-8',sep='\\t',quoting=3)"
   ]
  },
  {
   "cell_type": "code",
   "execution_count": 80,
   "metadata": {},
   "outputs": [
    {
     "data": {
      "text/plain": [
       "<bound method NDFrame.head of              id                                               segs\n",
       "0          1_id  2015 年 6 月 29 日 郑州市 召开 社会 信用 体系 建设 工作 会议 总结 近年...\n",
       "1         10_id  2012 年 11 月 长江日报 报道 目前 武汉 多家 旅行社 规定 云南 特价 团 的 ...\n",
       "2        100_id  2012 年 4 月 中国 青年网 中国 青少年 网 协会 联合 向 广大 青少年 发出 青...\n",
       "3       1000_id  回眸 十一五 改革开放 纵深 发展 经济社会 发展 又 好 又 快 十二五 是 全面 建设 ...\n",
       "4      10000_id  动物细胞 与 高等植物 细胞 的 有丝分裂 不同之处 为 纺锤体 形成 方式 不同 染色体 ...\n",
       "...         ...                                                ...\n",
       "17912   9995_id  现 提供 新 配制 的 斐林 试剂 甲液 1 g mLNaOH 溶液 乙液 05 g mLC...\n",
       "17913   9996_id  下列 关于 糖类 和 脂质 的 叙述 正确 的 说法 有 分别 含有 5 个 和 12 个 ...\n",
       "17914   9997_id  植物 细胞 表现 出 全能性 的 必要条件 是 A . 给予 适宜 的 营养 和 外界 条件...\n",
       "17915   9998_id  有关 细胞 全能性 的 叙述 中 错误 的 是 A . 受精卵 在 自然 条件 下 能够 使...\n",
       "17916   9999_id  下列 有关 细胞 全能性 的 叙述 正确 的 是 A . 组织培养 繁育 花卉 所 利用 的...\n",
       "\n",
       "[17917 rows x 2 columns]>"
      ]
     },
     "execution_count": 80,
     "metadata": {},
     "output_type": "execute_result"
    }
   ],
   "source": [
    "df.head"
   ]
  },
  {
   "cell_type": "code",
   "execution_count": 81,
   "metadata": {},
   "outputs": [],
   "source": [
    "df=df.dropna()"
   ]
  },
  {
   "cell_type": "code",
   "execution_count": 82,
   "metadata": {},
   "outputs": [],
   "source": [
    "docs = df['segs']"
   ]
  },
  {
   "cell_type": "code",
   "execution_count": 83,
   "metadata": {},
   "outputs": [
    {
     "data": {
      "text/plain": [
       "0    2015 年 6 月 29 日 郑州市 召开 社会 信用 体系 建设 工作 会议 总结 近年...\n",
       "1    2012 年 11 月 长江日报 报道 目前 武汉 多家 旅行社 规定 云南 特价 团 的 ...\n",
       "2    2012 年 4 月 中国 青年网 中国 青少年 网 协会 联合 向 广大 青少年 发出 青...\n",
       "3    回眸 十一五 改革开放 纵深 发展 经济社会 发展 又 好 又 快 十二五 是 全面 建设 ...\n",
       "4    动物细胞 与 高等植物 细胞 的 有丝分裂 不同之处 为 纺锤体 形成 方式 不同 染色体 ...\n",
       "Name: segs, dtype: object"
      ]
     },
     "execution_count": 83,
     "metadata": {},
     "output_type": "execute_result"
    }
   ],
   "source": [
    "docs.head()"
   ]
  },
  {
   "cell_type": "code",
   "execution_count": 87,
   "metadata": {},
   "outputs": [
    {
     "name": "stdout",
     "output_type": "stream",
     "text": [
      "2015 年 6 月 29 日 郑州市 召开 社会 信用 体系 建设 工作 会议 总结 近年来 的 社会 信用 体系 建设 情况 安排 部署 下一阶段 工作 建设 社会 信用 体系 需要 消费者 加大 对 失信 行为 的 打击 力度 企业经营者 遵循 诚信 原则 消费者 敢于 拿 起 法律 武器 维护 自身 合法权益 充分发挥 市场 对 资源配置 的 决定 作用\n",
      "2012 年 11 月 长江日报 报道 目前 武汉 多家 旅行社 规定 云南 特价 团 的 年龄 必须 在 28 岁 至 54 岁 之间 年龄 达 不到 要求 需 另外 支付 300 元 究其原因 竟是 85 后 熟悉 网络 报团 之前 多 会 在 网络 了解 市场行情 与 价位 跟 团 到 了 购物 景点 多 不会 出手 购物 导游 拿 不到 提成 当下 团队 旅游 市场 的 现状 是 由于 竞争 激烈 旅行社 多 采取 低 报价 手段 吸引 客源 然后 从 旅游 质量 打折 频繁 安排 购物 等 环节 中 补足 为此 某市 旅游 行业协会 通过 评选 推荐 诚信 旅行社 树立 诚信 旅行社 企业形象 带动 整个 行业 共同 走上 诚信 经营 的 道路 创建 和谐 健康 的 旅游 市场 1. 如何 认识 某些 旅行社 的 做法 1. 材料 中 某市 旅游 行业协会 的 做法 给 我们 什么 启示\n",
      "2012 年 4 月 中国 青年网 中国 青少年 网 协会 联合 向 广大 青少年 发出 青少年 坚决 不信谣不 传谣 倡议书 希望 广大 青少年 自觉 做 网络 健康 环境 的 维护者 说明 网络 技术 的 发展 带来 了 哪些 伦理 问题 网络 自由 的 滥用 问题 网络安全 问题 网络 谣言 严重 侵犯 公民 权益 损害 公共利益 危害 国家 安全 和 社会 稳定 必须 坚决 抵制 抵制 网络 谣言 推动 网络 行业 健康 可 持续 发展 是 青少年 应有 的 公民 意识 和 政治 素养 青少年 要 树立 法律意识 严格遵守 互联网 法律法规 自觉 远离 网络 谣言 . A\n"
     ]
    }
   ],
   "source": [
    "doclist=docs.values\n",
    "print(doclist[0])\n",
    "print(doclist[1])\n",
    "print(doclist[2])"
   ]
  },
  {
   "cell_type": "markdown",
   "metadata": {},
   "source": [
    "将数据处理成我们要的样子"
   ]
  },
  {
   "cell_type": "code",
   "execution_count": 88,
   "metadata": {},
   "outputs": [],
   "source": [
    "texts = [[word for word in doc.split(' ') if word not in stop_words and len(word) > 1] for doc in doclist]"
   ]
  },
  {
   "cell_type": "code",
   "execution_count": 89,
   "metadata": {},
   "outputs": [
    {
     "data": {
      "text/plain": [
       "['2015',\n",
       " '29',\n",
       " '郑州市',\n",
       " '召开',\n",
       " '社会',\n",
       " '信用',\n",
       " '体系',\n",
       " '建设',\n",
       " '工作',\n",
       " '会议',\n",
       " '总结',\n",
       " '近年来',\n",
       " '社会',\n",
       " '信用',\n",
       " '体系',\n",
       " '建设',\n",
       " '情况',\n",
       " '安排',\n",
       " '部署',\n",
       " '下一阶段',\n",
       " '工作',\n",
       " '建设',\n",
       " '社会',\n",
       " '信用',\n",
       " '体系',\n",
       " '需要',\n",
       " '消费者',\n",
       " '加大',\n",
       " '失信',\n",
       " '行为',\n",
       " '打击',\n",
       " '力度',\n",
       " '企业经营者',\n",
       " '遵循',\n",
       " '诚信',\n",
       " '原则',\n",
       " '消费者',\n",
       " '敢于',\n",
       " '法律',\n",
       " '武器',\n",
       " '维护',\n",
       " '自身',\n",
       " '合法权益',\n",
       " '充分发挥',\n",
       " '市场',\n",
       " '资源配置',\n",
       " '决定',\n",
       " '作用']"
      ]
     },
     "execution_count": 89,
     "metadata": {},
     "output_type": "execute_result"
    }
   ],
   "source": [
    "texts[0]"
   ]
  },
  {
   "cell_type": "markdown",
   "metadata": {},
   "source": [
    "词袋模型处理"
   ]
  },
  {
   "cell_type": "code",
   "execution_count": 90,
   "metadata": {},
   "outputs": [],
   "source": [
    "dictionary = corpora.Dictionary(texts)\n",
    "corpus = [dictionary.doc2bow(text) for text in texts]"
   ]
  },
  {
   "cell_type": "code",
   "execution_count": 92,
   "metadata": {},
   "outputs": [
    {
     "data": {
      "text/plain": [
       "[(0, 1),\n",
       " (1, 1),\n",
       " (2, 1),\n",
       " (3, 1),\n",
       " (4, 1),\n",
       " (5, 3),\n",
       " (6, 1),\n",
       " (7, 3),\n",
       " (8, 1),\n",
       " (9, 1),\n",
       " (10, 1),\n",
       " (11, 1),\n",
       " (12, 1),\n",
       " (13, 1),\n",
       " (14, 1),\n",
       " (15, 1),\n",
       " (16, 1),\n",
       " (17, 2),\n",
       " (18, 1),\n",
       " (19, 3),\n",
       " (20, 1),\n",
       " (21, 1),\n",
       " (22, 1),\n",
       " (23, 1),\n",
       " (24, 1),\n",
       " (25, 1),\n",
       " (26, 2),\n",
       " (27, 3),\n",
       " (28, 1),\n",
       " (29, 1),\n",
       " (30, 1),\n",
       " (31, 1),\n",
       " (32, 1),\n",
       " (33, 1),\n",
       " (34, 1),\n",
       " (35, 1),\n",
       " (36, 1),\n",
       " (37, 1)]"
      ]
     },
     "execution_count": 92,
     "metadata": {},
     "output_type": "execute_result"
    }
   ],
   "source": [
    "corpus[0]"
   ]
  },
  {
   "cell_type": "markdown",
   "metadata": {},
   "source": [
    "开始训练LDA主题模型"
   ]
  },
  {
   "cell_type": "code",
   "execution_count": 97,
   "metadata": {},
   "outputs": [],
   "source": [
    "lda = gensim.models.ldamodel.LdaModel(corpus=corpus, id2word=dictionary, num_topics=5)"
   ]
  },
  {
   "cell_type": "code",
   "execution_count": 98,
   "metadata": {},
   "outputs": [
    {
     "data": {
      "text/plain": [
       "'0.019*\"太阳\" + 0.017*\"下列\" + 0.014*\"正确\" + 0.012*\"叙述\" + 0.011*\"公转\" + 0.010*\"昼夜\" + 0.008*\"直射\" + 0.008*\"关于\" + 0.007*\"正午\" + 0.007*\"太阳系\" + 0.007*\"地壳\" + 0.007*\"物质\" + 0.007*\"移动\" + 0.007*\"运动\" + 0.007*\"天体\" + 0.006*\"北半球\" + 0.006*\"变化\" + 0.006*\"生命\" + 0.006*\"火星\" + 0.006*\"太阳辐射\"'"
      ]
     },
     "execution_count": 98,
     "metadata": {},
     "output_type": "execute_result"
    }
   ],
   "source": [
    "lda.print_topic(1, topn=20)"
   ]
  },
  {
   "cell_type": "code",
   "execution_count": 99,
   "metadata": {},
   "outputs": [
    {
     "data": {
      "text/plain": [
       "[(0,\n",
       "  '0.036*\"细胞\" + 0.018*\"染色体\" + 0.014*\"下列\" + 0.014*\"相同\" + 0.014*\"基因\" + 0.011*\"正确\" + 0.009*\"叙述\" + 0.008*\"蛋白质\" + 0.008*\"DNA\" + 0.007*\"生物\" + 0.007*\"基因型\" + 0.006*\"有关\" + 0.006*\"一个\" + 0.006*\"分子\" + 0.006*\"不同\" + 0.006*\"关于\" + 0.005*\"位于\" + 0.005*\"发生\" + 0.005*\"细胞核\" + 0.005*\"过程\"'),\n",
       " (1,\n",
       "  '0.019*\"太阳\" + 0.017*\"下列\" + 0.014*\"正确\" + 0.012*\"叙述\" + 0.011*\"公转\" + 0.010*\"昼夜\" + 0.008*\"直射\" + 0.008*\"关于\" + 0.007*\"正午\" + 0.007*\"太阳系\" + 0.007*\"地壳\" + 0.007*\"物质\" + 0.007*\"移动\" + 0.007*\"运动\" + 0.007*\"天体\" + 0.006*\"北半球\" + 0.006*\"变化\" + 0.006*\"生命\" + 0.006*\"火星\" + 0.006*\"太阳辐射\"'),\n",
       " (2,\n",
       "  '0.020*\"地球\" + 0.011*\"经济\" + 0.011*\"发展\" + 0.010*\"中国\" + 0.008*\"材料\" + 0.007*\"人口\" + 0.007*\"我国\" + 0.007*\"城市\" + 0.006*\"国家\" + 0.006*\"地区\" + 0.006*\"北京\" + 0.005*\"主要\" + 0.004*\"地方\" + 0.004*\"问题\" + 0.004*\"下列\" + 0.004*\"时间\" + 0.004*\"现象\" + 0.004*\"社会\" + 0.004*\"生活\" + 0.003*\"影响\"'),\n",
       " (3,\n",
       "  '0.012*\"太阳\" + 0.009*\"社会\" + 0.007*\"发展\" + 0.006*\"经济\" + 0.006*\"下列\" + 0.006*\"细胞\" + 0.006*\"市场\" + 0.005*\"社会主义\" + 0.005*\"材料\" + 0.005*\"英国\" + 0.005*\"政府\" + 0.004*\"分配\" + 0.004*\"历史\" + 0.004*\"作用\" + 0.004*\"正确\" + 0.004*\"提出\" + 0.004*\"收入\" + 0.004*\"革命\" + 0.003*\"结合\" + 0.003*\"我们\"'),\n",
       " (4,\n",
       "  '0.016*\"下列\" + 0.016*\"实验\" + 0.014*\"细胞\" + 0.010*\"观察\" + 0.009*\"正确\" + 0.009*\"试剂\" + 0.009*\"大气\" + 0.008*\"叶绿体\" + 0.007*\"进行\" + 0.007*\"植物\" + 0.007*\"叙述\" + 0.006*\"现象\" + 0.006*\"线粒体\" + 0.006*\"蛋白质\" + 0.006*\"生物\" + 0.005*\"鉴定\" + 0.005*\"有关\" + 0.005*\"具有\" + 0.005*\"脂肪\" + 0.005*\"溶液\"')]"
      ]
     },
     "execution_count": 99,
     "metadata": {},
     "output_type": "execute_result"
    }
   ],
   "source": [
    "lda.print_topics(num_topics=20, num_words=20)"
   ]
  },
  {
   "cell_type": "code",
   "execution_count": 104,
   "metadata": {},
   "outputs": [],
   "source": [
    "bow_sample =[(0, 1),\n",
    " (1, 1),\n",
    " (2, 1),\n",
    " (3, 1),\n",
    " (4, 1),\n",
    " (5, 3),\n",
    " (6, 1),\n",
    " (7, 3),\n",
    " (8, 1),\n",
    " (9, 1),\n",
    " (10, 1),\n",
    " (11, 1),\n",
    " (12, 1),\n",
    " (13, 1),\n",
    " (14, 1),\n",
    " (15, 1),\n",
    " (16, 1),\n",
    " (17, 2),\n",
    " (18, 1),\n",
    " (19, 3),\n",
    " (20, 1),\n",
    " (21, 1),\n",
    " (22, 1),\n",
    " (23, 1),\n",
    " (24, 1),\n",
    " (25, 1),\n",
    " (26, 2),\n",
    " (27, 3),\n",
    " (28, 1),\n",
    " (29, 1),\n",
    " (30, 1),\n",
    " (31, 1),\n",
    " (32, 1),\n",
    " (33, 1),\n",
    " (34, 1),\n",
    " (35, 1),\n",
    " (36, 1),\n",
    " (37, 1)]"
   ]
  },
  {
   "cell_type": "code",
   "execution_count": 103,
   "metadata": {
    "scrolled": true
   },
   "outputs": [
    {
     "data": {
      "text/plain": [
       "[(0, 0.0678866),\n",
       " (1, 0.72788554),\n",
       " (2, 0.06763608),\n",
       " (3, 0.06833906),\n",
       " (4, 0.068252765)]"
      ]
     },
     "execution_count": 103,
     "metadata": {},
     "output_type": "execute_result"
    }
   ],
   "source": [
    "lda.get_document_topics(bow_sample)"
   ]
  },
  {
   "cell_type": "code",
   "execution_count": null,
   "metadata": {},
   "outputs": [],
   "source": []
  }
 ],
 "metadata": {
  "kernelspec": {
   "display_name": "Python 3",
   "language": "python",
   "name": "python3"
  },
  "language_info": {
   "codemirror_mode": {
    "name": "ipython",
    "version": 3
   },
   "file_extension": ".py",
   "mimetype": "text/x-python",
   "name": "python",
   "nbconvert_exporter": "python",
   "pygments_lexer": "ipython3",
   "version": "3.6.8"
  }
 },
 "nbformat": 4,
 "nbformat_minor": 2
}
